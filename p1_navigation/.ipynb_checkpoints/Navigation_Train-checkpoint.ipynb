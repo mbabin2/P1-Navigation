{
 "cells": [
  {
   "cell_type": "markdown",
   "metadata": {},
   "source": [
    "# Mathias Babin - P1 Navigation Train\n",
    "\n",
    "This is my implementation for solving the P1 Navigation project for [Udacity's Deep Reinforcement Learning course](https://www.udacity.com/course/deep-reinforcement-learning-nanodegree--nd893). Details on the project are provided in the **README** for this repository. The purpose of this notebook is to **train** an Agent to solve this enviroment. If you wish to watch a **finished** agent perform in this enviroment, please go to the **Navigation_Test** notebook included in this repository.\n",
    "\n",
    "\n",
    "### 1. Setting up the Environment\n",
    "\n",
    "Running the following cell gaurentees that both [Unity ML-Agents](https://github.com/Unity-Technologies/ml-agents/blob/master/docs/Installation.md) and [NumPy](http://www.numpy.org/) have been installed correctly. "
   ]
  },
  {
   "cell_type": "code",
   "execution_count": 1,
   "metadata": {},
   "outputs": [],
   "source": [
    "from unityagents import UnityEnvironment\n",
    "import numpy as np"
   ]
  },
  {
   "cell_type": "markdown",
   "metadata": {},
   "source": [
    "This project was built and tested on 64-bit Linux system. To make this application run on a different OS please change the file path in the next cell to one of the following:\n",
    "\n",
    "- **Mac**: `\"path/to/Banana.app\"`\n",
    "- **Windows** (x86): `\"path/to/Banana_Windows_x86/Banana.exe\"`\n",
    "- **Windows** (x86_64): `\"path/to/Banana_Windows_x86_64/Banana.exe\"`\n",
    "- **Linux** (x86): `\"path/to/Banana_Linux/Banana.x86\"`\n",
    "- **Linux** (x86_64): `\"path/to/Banana_Linux/Banana.x86_64\"`\n",
    "\n",
    "Note that all of these files **_should_** already be included in the repository as .zip files, simply extract the one that matches your current OS (Linux 32-bit/64-bit are already extracted)."
   ]
  },
  {
   "cell_type": "markdown",
   "metadata": {},
   "source": [
    "The next cell simply sets up the Enviroment. **_IMPORTANT:_**  If the following cell opens a Unity Window that crashes, this is because the rest of the cells in the project are not being executed fast enough. To avoid this, please select **Restart & Run All** under **Kernal**. This will execute all the cells in the project."
   ]
  },
  {
   "cell_type": "code",
   "execution_count": 2,
   "metadata": {},
   "outputs": [
    {
     "name": "stderr",
     "output_type": "stream",
     "text": [
      "INFO:unityagents:\n",
      "'Academy' started successfully!\n",
      "Unity Academy name: Academy\n",
      "        Number of Brains: 1\n",
      "        Number of External Brains : 1\n",
      "        Lesson number : 0\n",
      "        Reset Parameters :\n",
      "\t\t\n",
      "Unity brain name: BananaBrain\n",
      "        Number of Visual Observations (per agent): 0\n",
      "        Vector Observation space type: continuous\n",
      "        Vector Observation space size (per agent): 37\n",
      "        Number of stacked Vector Observation: 1\n",
      "        Vector Action space type: discrete\n",
      "        Vector Action space size (per agent): 4\n",
      "        Vector Action descriptions: , , , \n"
     ]
    }
   ],
   "source": [
    "env = UnityEnvironment(file_name=\"Banana_Linux/Banana.x86_64\")"
   ]
  },
  {
   "cell_type": "markdown",
   "metadata": {},
   "source": [
    "### 2. Training the Agent\n",
    "\n",
    "Start by importing some necessary packages and intializes values for the training of the agent."
   ]
  },
  {
   "cell_type": "code",
   "execution_count": 3,
   "metadata": {},
   "outputs": [],
   "source": [
    "import torch\n",
    "import matplotlib.pyplot as plt\n",
    "\n",
    "from Agent import Agent\n",
    "from collections import deque\n",
    "\n",
    "n_episodes= 1300 # number of episodes to train for\n",
    "EPSILON = 1.0 # initialize epsilon, used for epsilon-greedy policy\n",
    "EPS_MIN = 1e-2 # the minimun value of epsilon\n",
    "EPS_DECAY = 0.995 # the decay rate of epsilon\n",
    "\n",
    "\n",
    "brain_name = env.brain_names[0] # get the name of the brains from the Unity environment\n",
    "brain = env.brains[brain_name]\n",
    "env_info = env.reset(train_mode=True)[brain_name] # reset the environment and obtain info on state/action space\n",
    "\n",
    "# initialize agent with state size and action size.\n",
    "agent = Agent(len(env_info.vector_observations[0]), brain.vector_action_space_size, seed=0)\n",
    "\n",
    "# initialize scores\n",
    "scores = []                        # list of all scores\n",
    "scores_window = deque(maxlen=100)  # a queue of the last 100 scores\n",
    "env_solved = False # bool set to true when environment has been solved"
   ]
  },
  {
   "cell_type": "markdown",
   "metadata": {},
   "source": [
    "Train the Agent for n episodes, and report its average score every 100 episodes and on what episode it reached a score of +13 (in which the enviroment is considered solved)."
   ]
  },
  {
   "cell_type": "code",
   "execution_count": 4,
   "metadata": {},
   "outputs": [
    {
     "name": "stdout",
     "output_type": "stream",
     "text": [
      "Episode 100 -> Avg Score: 0.166\n",
      "Episode 200 -> Avg Score: 3.299\n",
      "Episode 300 -> Avg Score: 6.877\n",
      "Episode 400 -> Avg Score: 10.155\n",
      "Episode 500 -> Avg Score: 12.399\n",
      "Episode 518 -> Avg. Score: 13.00\n",
      "Environment solved on episode 518.\n",
      "Episode 600 -> Avg Score: 13.955\n",
      "Episode 700 -> Avg Score: 14.455\n",
      "Episode 800 -> Avg Score: 14.577\n",
      "Episode 900 -> Avg Score: 15.644\n",
      "Episode 1000 -> Avg Score: 16.166\n",
      "Episode 1100 -> Avg Score: 15.877\n",
      "Episode 1200 -> Avg Score: 17.266\n",
      "Episode 1300 -> Avg Score: 16.444\n"
     ]
    }
   ],
   "source": [
    "for i_episode in range(1, n_episodes+1): # loop through all episodes\n",
    "    env_info = env.reset(train_mode=True)[brain_name] # reset the environment\n",
    "    state = env_info.vector_observations[0] # get the first state\n",
    "    score = 0 #reset score to 0\n",
    "    for t in range(1000): #loop for a maximum of 1000 steps t\n",
    "        action = agent.act(state, EPSILON) # get best action according to epsilon greedy policy\n",
    "        env_info = env.step(action)[brain_name] # take that action\n",
    "        next_state = env_info.vector_observations[0] # the next state\n",
    "        reward = env_info.rewards[0] # get the reward for taking that action\n",
    "        done = env_info.local_done[0] # get bool indicating the episode is finished\n",
    "        agent.step(state, action, reward, next_state) # update replay buffer, and train agent\n",
    "        state = next_state # set current state to next state\n",
    "        score += reward # update scorre\n",
    "        # end episode if done is true\n",
    "        if done:\n",
    "            break \n",
    "    \n",
    "    EPSILON = max(EPSILON*EPS_DECAY, EPS_MIN) # decrease epsilon every episode\n",
    "    \n",
    "    scores.append(score) # add most recent score to list\n",
    "    scores_window.append(score) # add the most recent score to queue\n",
    "\n",
    "    # print average scores\n",
    "    print('\\rEpisode {} -> Avg. Score: {:.2f}'.format(i_episode, np.mean(scores_window)), end=\"\")\n",
    "    if i_episode % 100 == 0:\n",
    "        print('\\rEpisode {} -> Avg Score: {:.2f}'.format(i_episode, np.mean(scores_window)))\n",
    "    # print if environment was solved\n",
    "    if np.mean(scores_window)>=13.0 and not env_solved:\n",
    "            print('\\nEnvironment solved on episode {:d}.'.format(i_episode))\n",
    "            env_solved = True"
   ]
  },
  {
   "cell_type": "markdown",
   "metadata": {},
   "source": [
    "Plot the training results of training (Score vs. Episode Number)."
   ]
  },
  {
   "cell_type": "code",
   "execution_count": 5,
   "metadata": {},
   "outputs": [
    {
     "data": {
      "image/png": "[encoded data removed]",
      "text/plain": [
       "<Figure size 432x288 with 1 Axes>"
      ]
     },
     "metadata": {},
     "output_type": "display_data"
    }
   ],
   "source": [
    "# plot the score for each episode vs. the episode number\n",
    "plt.plot(np.arange(len(scores)), scores)\n",
    "plt.ylabel('Score')\n",
    "plt.xlabel('Episode #')\n",
    "plt.show()"
   ]
  },
  {
   "cell_type": "markdown",
   "metadata": {},
   "source": [
    "Finally, save the trained weights and close the environment down."
   ]
  },
  {
   "cell_type": "code",
   "execution_count": 6,
   "metadata": {},
   "outputs": [],
   "source": [
    "# save the trained weights and close the environment\n",
    "torch.save(agent.qnetwork_local.state_dict(), 'checkpoint.pth')\n",
    "env.close()"
   ]
  },
  {
   "cell_type": "markdown",
   "metadata": {},
   "source": [
    "### 3. Implementation Details\n",
    "\n",
    "If you have any questions about the implementation details of this project please refer to the **Report.pdf** file included with this repository for a full explanation of both the algorithms and design decisions chosen."
   ]
  }
 ],
 "metadata": {
  "kernelspec": {
   "display_name": "drlnd",
   "language": "python",
   "name": "drlnd"
  },
  "language_info": {
   "codemirror_mode": {
    "name": "ipython",
    "version": 3
   },
   "file_extension": ".py",
   "mimetype": "text/x-python",
   "name": "python",
   "nbconvert_exporter": "python",
   "pygments_lexer": "ipython3",
   "version": "3.6.6"
  }
 },
 "nbformat": 4,
 "nbformat_minor": 2
}
